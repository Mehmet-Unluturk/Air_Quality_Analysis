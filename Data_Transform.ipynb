{
 "cells": [
  {
   "cell_type": "code",
   "execution_count": 19,
   "id": "817c96d9-ece7-449c-90ea-79526a8adaae",
   "metadata": {},
   "outputs": [],
   "source": [
    "import pandas as pd\n",
    "import json"
   ]
  },
  {
   "cell_type": "code",
   "execution_count": 20,
   "id": "9bca81e1-1258-42fb-b8cb-92e30dbfa602",
   "metadata": {},
   "outputs": [],
   "source": [
    "with open('openaq_data.json', 'r') as f:\n",
    "    data = json.load(f)\n",
    "\n",
    "df = pd.DataFrame(data['results'])"
   ]
  },
  {
   "cell_type": "code",
   "execution_count": 21,
   "id": "0822a4d6-b95d-48ab-b81f-510dc44ee43c",
   "metadata": {},
   "outputs": [
    {
     "name": "stdout",
     "output_type": "stream",
     "text": [
      "<class 'pandas.core.frame.DataFrame'>\n",
      "RangeIndex: 10000 entries, 0 to 9999\n",
      "Data columns (total 8 columns):\n",
      " #   Column       Non-Null Count  Dtype  \n",
      "---  ------       --------------  -----  \n",
      " 0   location     10000 non-null  object \n",
      " 1   parameter    10000 non-null  object \n",
      " 2   value        10000 non-null  float64\n",
      " 3   date         10000 non-null  object \n",
      " 4   unit         10000 non-null  object \n",
      " 5   coordinates  10000 non-null  object \n",
      " 6   country      10000 non-null  object \n",
      " 7   city         0 non-null      object \n",
      "dtypes: float64(1), object(7)\n",
      "memory usage: 625.1+ KB\n"
     ]
    }
   ],
   "source": [
    "df.info()"
   ]
  },
  {
   "cell_type": "code",
   "execution_count": 22,
   "id": "912f8feb-4a3a-4932-a873-a5d7c52d35fe",
   "metadata": {},
   "outputs": [
    {
     "data": {
      "text/html": [
       "<div>\n",
       "<style scoped>\n",
       "    .dataframe tbody tr th:only-of-type {\n",
       "        vertical-align: middle;\n",
       "    }\n",
       "\n",
       "    .dataframe tbody tr th {\n",
       "        vertical-align: top;\n",
       "    }\n",
       "\n",
       "    .dataframe thead th {\n",
       "        text-align: right;\n",
       "    }\n",
       "</style>\n",
       "<table border=\"1\" class=\"dataframe\">\n",
       "  <thead>\n",
       "    <tr style=\"text-align: right;\">\n",
       "      <th></th>\n",
       "      <th>location</th>\n",
       "      <th>parameter</th>\n",
       "      <th>value</th>\n",
       "      <th>date</th>\n",
       "      <th>unit</th>\n",
       "      <th>coordinates</th>\n",
       "      <th>country</th>\n",
       "      <th>city</th>\n",
       "    </tr>\n",
       "  </thead>\n",
       "  <tbody>\n",
       "    <tr>\n",
       "      <th>0</th>\n",
       "      <td>LANSING</td>\n",
       "      <td>nox</td>\n",
       "      <td>0.0025</td>\n",
       "      <td>{'utc': '2024-04-25T19:00:00+00:00', 'local': ...</td>\n",
       "      <td>ppm</td>\n",
       "      <td>{'latitude': 42.76138, 'longitude': -84.562867}</td>\n",
       "      <td>US</td>\n",
       "      <td>None</td>\n",
       "    </tr>\n",
       "    <tr>\n",
       "      <th>1</th>\n",
       "      <td>Mooroolbark</td>\n",
       "      <td>pm10</td>\n",
       "      <td>6.5300</td>\n",
       "      <td>{'utc': '2024-04-25T19:00:00+00:00', 'local': ...</td>\n",
       "      <td>µg/m³</td>\n",
       "      <td>{'latitude': -37.77512, 'longitude': 145.3284}</td>\n",
       "      <td>AU</td>\n",
       "      <td>None</td>\n",
       "    </tr>\n",
       "    <tr>\n",
       "      <th>2</th>\n",
       "      <td>Footscray</td>\n",
       "      <td>pm25</td>\n",
       "      <td>1.2200</td>\n",
       "      <td>{'utc': '2024-04-25T19:00:00+00:00', 'local': ...</td>\n",
       "      <td>µg/m³</td>\n",
       "      <td>{'latitude': -37.80266, 'longitude': 144.8778}</td>\n",
       "      <td>AU</td>\n",
       "      <td>None</td>\n",
       "    </tr>\n",
       "    <tr>\n",
       "      <th>3</th>\n",
       "      <td>Footscray</td>\n",
       "      <td>pm10</td>\n",
       "      <td>6.1600</td>\n",
       "      <td>{'utc': '2024-04-25T19:00:00+00:00', 'local': ...</td>\n",
       "      <td>µg/m³</td>\n",
       "      <td>{'latitude': -37.80266, 'longitude': 144.8778}</td>\n",
       "      <td>AU</td>\n",
       "      <td>None</td>\n",
       "    </tr>\n",
       "    <tr>\n",
       "      <th>4</th>\n",
       "      <td>Mooroolbark</td>\n",
       "      <td>pm25</td>\n",
       "      <td>5.4500</td>\n",
       "      <td>{'utc': '2024-04-25T19:00:00+00:00', 'local': ...</td>\n",
       "      <td>µg/m³</td>\n",
       "      <td>{'latitude': -37.77512, 'longitude': 145.3284}</td>\n",
       "      <td>AU</td>\n",
       "      <td>None</td>\n",
       "    </tr>\n",
       "  </tbody>\n",
       "</table>\n",
       "</div>"
      ],
      "text/plain": [
       "      location parameter   value  \\\n",
       "0      LANSING       nox  0.0025   \n",
       "1  Mooroolbark      pm10  6.5300   \n",
       "2    Footscray      pm25  1.2200   \n",
       "3    Footscray      pm10  6.1600   \n",
       "4  Mooroolbark      pm25  5.4500   \n",
       "\n",
       "                                                date   unit  \\\n",
       "0  {'utc': '2024-04-25T19:00:00+00:00', 'local': ...    ppm   \n",
       "1  {'utc': '2024-04-25T19:00:00+00:00', 'local': ...  µg/m³   \n",
       "2  {'utc': '2024-04-25T19:00:00+00:00', 'local': ...  µg/m³   \n",
       "3  {'utc': '2024-04-25T19:00:00+00:00', 'local': ...  µg/m³   \n",
       "4  {'utc': '2024-04-25T19:00:00+00:00', 'local': ...  µg/m³   \n",
       "\n",
       "                                       coordinates country  city  \n",
       "0  {'latitude': 42.76138, 'longitude': -84.562867}      US  None  \n",
       "1   {'latitude': -37.77512, 'longitude': 145.3284}      AU  None  \n",
       "2   {'latitude': -37.80266, 'longitude': 144.8778}      AU  None  \n",
       "3   {'latitude': -37.80266, 'longitude': 144.8778}      AU  None  \n",
       "4   {'latitude': -37.77512, 'longitude': 145.3284}      AU  None  "
      ]
     },
     "execution_count": 22,
     "metadata": {},
     "output_type": "execute_result"
    }
   ],
   "source": [
    "df.head()"
   ]
  },
  {
   "cell_type": "code",
   "execution_count": 23,
   "id": "9e280902-8cdd-42d1-8c27-e5d7404400fe",
   "metadata": {},
   "outputs": [],
   "source": [
    "df = df.drop(columns=['city'])\n",
    "df = df.rename(columns={'location': 'city'})"
   ]
  },
  {
   "cell_type": "code",
   "execution_count": 24,
   "id": "5db67ea1-3b5a-402d-8520-d249d61e23f2",
   "metadata": {},
   "outputs": [],
   "source": [
    "df = df[~df['city'].str.contains(r'[A-Z]+[0-9]+')]"
   ]
  },
  {
   "cell_type": "code",
   "execution_count": 25,
   "id": "d85a0c59-acf5-4594-acde-953844c3b825",
   "metadata": {},
   "outputs": [],
   "source": [
    "df[['latitude', 'longitude']] = df['coordinates'].apply(lambda x: pd.Series([x['latitude'], x['longitude']]))"
   ]
  },
  {
   "cell_type": "code",
   "execution_count": 26,
   "id": "6e62c326-e6df-412c-bc05-9ca4f4ab91ce",
   "metadata": {},
   "outputs": [],
   "source": [
    "df.drop(columns=['coordinates'], inplace=True)"
   ]
  },
  {
   "cell_type": "code",
   "execution_count": 27,
   "id": "f3edb186-1e25-4019-856d-aeeaec4361df",
   "metadata": {},
   "outputs": [],
   "source": [
    "df.drop(columns=['date'], inplace=True)"
   ]
  },
  {
   "cell_type": "code",
   "execution_count": 28,
   "id": "104590bd-479e-4f73-8bb9-9f10453c772f",
   "metadata": {},
   "outputs": [],
   "source": [
    "european_country_codes = ['IS', 'GR', 'NL', 'NO', 'RO', 'MK', 'ES', 'DK', 'FI', 'LU',\n",
    "                       'LV', 'IE', 'BG', 'PL', 'RU', 'SI', 'XK', 'IT', 'RS', 'PT',\n",
    "                       'HU', 'FR', 'SE', 'DE', 'EE', 'MD', 'AT', 'UA', 'CZ', 'BE', 'SK']\n"
   ]
  },
  {
   "cell_type": "code",
   "execution_count": 29,
   "id": "7b79311c-c4e2-4472-9ef9-fb7fd80c5437",
   "metadata": {},
   "outputs": [],
   "source": [
    "df = df[df['country'].isin(european_country_codes)]"
   ]
  },
  {
   "cell_type": "code",
   "execution_count": 30,
   "id": "8ff7efc9-2ad1-4e1a-9b09-eaa00e13a0c2",
   "metadata": {},
   "outputs": [],
   "source": [
    "country_names = {\n",
    "    'IS': 'Iceland', 'GR': 'Greece', 'NL': 'Netherlands', 'NO': 'Norway', 'RO': 'Romania', \n",
    "    'MK': 'North Macedonia', 'ES': 'Spain', 'DK': 'Denmark', 'FI': 'Finland', 'LU': 'Luxembourg', \n",
    "    'LV': 'Latvia', 'IE': 'Ireland', 'BG': 'Bulgaria', 'PL': 'Poland', 'RU': 'Russia', \n",
    "    'SI': 'Slovenia', 'XK': 'Kosovo', 'IT': 'Italy', 'RS': 'Serbia', 'PT': 'Portugal', \n",
    "    'HU': 'Hungary', 'FR': 'France', 'SE': 'Sweden', 'DE': 'Germany', 'EE': 'Estonia', \n",
    "    'MD': 'Moldova', 'AT': 'Austria', 'UA': 'Ukraine', 'CZ': 'Czech Republic', \n",
    "    'BE': 'Belgium', 'SK': 'Slovakia'\n",
    "}"
   ]
  },
  {
   "cell_type": "code",
   "execution_count": 31,
   "id": "81b461e2-b3a8-407a-9740-1c696f26825e",
   "metadata": {},
   "outputs": [],
   "source": [
    "df['country'] = df['country'].map(country_names)"
   ]
  },
  {
   "cell_type": "code",
   "execution_count": 32,
   "id": "4496d58e-0ac0-46ec-93df-dd8c6634f58d",
   "metadata": {},
   "outputs": [
    {
     "data": {
      "text/html": [
       "<div>\n",
       "<style scoped>\n",
       "    .dataframe tbody tr th:only-of-type {\n",
       "        vertical-align: middle;\n",
       "    }\n",
       "\n",
       "    .dataframe tbody tr th {\n",
       "        vertical-align: top;\n",
       "    }\n",
       "\n",
       "    .dataframe thead th {\n",
       "        text-align: right;\n",
       "    }\n",
       "</style>\n",
       "<table border=\"1\" class=\"dataframe\">\n",
       "  <thead>\n",
       "    <tr style=\"text-align: right;\">\n",
       "      <th></th>\n",
       "      <th>city</th>\n",
       "      <th>parameter</th>\n",
       "      <th>value</th>\n",
       "      <th>unit</th>\n",
       "      <th>country</th>\n",
       "      <th>latitude</th>\n",
       "      <th>longitude</th>\n",
       "    </tr>\n",
       "  </thead>\n",
       "  <tbody>\n",
       "    <tr>\n",
       "      <th>6</th>\n",
       "      <td>Reykjavik Husdyragardurinn</td>\n",
       "      <td>o3</td>\n",
       "      <td>35.961900</td>\n",
       "      <td>µg/m³</td>\n",
       "      <td>Iceland</td>\n",
       "      <td>64.138861</td>\n",
       "      <td>-21.873411</td>\n",
       "    </tr>\n",
       "    <tr>\n",
       "      <th>7</th>\n",
       "      <td>VOLOS-1</td>\n",
       "      <td>pm25</td>\n",
       "      <td>2.000000</td>\n",
       "      <td>µg/m³</td>\n",
       "      <td>Greece</td>\n",
       "      <td>39.366711</td>\n",
       "      <td>22.942922</td>\n",
       "    </tr>\n",
       "    <tr>\n",
       "      <th>8</th>\n",
       "      <td>VOLOS-1</td>\n",
       "      <td>pm10</td>\n",
       "      <td>18.000000</td>\n",
       "      <td>µg/m³</td>\n",
       "      <td>Greece</td>\n",
       "      <td>39.366711</td>\n",
       "      <td>22.942922</td>\n",
       "    </tr>\n",
       "    <tr>\n",
       "      <th>31</th>\n",
       "      <td>Utrecht NLH</td>\n",
       "      <td>relativehumidity</td>\n",
       "      <td>64.237500</td>\n",
       "      <td>%</td>\n",
       "      <td>Netherlands</td>\n",
       "      <td>52.094751</td>\n",
       "      <td>5.134536</td>\n",
       "    </tr>\n",
       "    <tr>\n",
       "      <th>32</th>\n",
       "      <td>Utrecht NLH</td>\n",
       "      <td>pm1</td>\n",
       "      <td>14.333333</td>\n",
       "      <td>µg/m³</td>\n",
       "      <td>Netherlands</td>\n",
       "      <td>52.094751</td>\n",
       "      <td>5.134536</td>\n",
       "    </tr>\n",
       "  </tbody>\n",
       "</table>\n",
       "</div>"
      ],
      "text/plain": [
       "                          city         parameter      value   unit  \\\n",
       "6   Reykjavik Husdyragardurinn                o3  35.961900  µg/m³   \n",
       "7                      VOLOS-1              pm25   2.000000  µg/m³   \n",
       "8                      VOLOS-1              pm10  18.000000  µg/m³   \n",
       "31                 Utrecht NLH  relativehumidity  64.237500      %   \n",
       "32                 Utrecht NLH               pm1  14.333333  µg/m³   \n",
       "\n",
       "        country   latitude  longitude  \n",
       "6       Iceland  64.138861 -21.873411  \n",
       "7        Greece  39.366711  22.942922  \n",
       "8        Greece  39.366711  22.942922  \n",
       "31  Netherlands  52.094751   5.134536  \n",
       "32  Netherlands  52.094751   5.134536  "
      ]
     },
     "execution_count": 32,
     "metadata": {},
     "output_type": "execute_result"
    }
   ],
   "source": [
    "df.head()"
   ]
  },
  {
   "cell_type": "code",
   "execution_count": 33,
   "id": "1a5dac1f-44fc-4e82-92e5-2f58e5c3338d",
   "metadata": {},
   "outputs": [
    {
     "data": {
      "text/plain": [
       "array(['o3', 'pm25', 'pm10', 'relativehumidity', 'pm1', 'um003', 'so2',\n",
       "       'no2', 'co', 'bc', 'temperature', 'no'], dtype=object)"
      ]
     },
     "execution_count": 33,
     "metadata": {},
     "output_type": "execute_result"
    }
   ],
   "source": [
    "df[\"parameter\"].unique()"
   ]
  },
  {
   "cell_type": "code",
   "execution_count": 34,
   "id": "b562d7d0-44a7-4e16-b32a-f2c7ba7f3add",
   "metadata": {},
   "outputs": [
    {
     "data": {
      "text/plain": [
       "parameter\n",
       "no2                 540\n",
       "pm10                517\n",
       "pm25                351\n",
       "o3                  345\n",
       "so2                 284\n",
       "pm1                  20\n",
       "relativehumidity     17\n",
       "um003                16\n",
       "temperature          15\n",
       "co                   13\n",
       "bc                    2\n",
       "no                    1\n",
       "Name: count, dtype: int64"
      ]
     },
     "execution_count": 34,
     "metadata": {},
     "output_type": "execute_result"
    }
   ],
   "source": [
    "df['parameter'].value_counts()"
   ]
  },
  {
   "cell_type": "code",
   "execution_count": 35,
   "id": "77ec2140-7178-4db0-bdcd-b53860ae7fd2",
   "metadata": {},
   "outputs": [],
   "source": [
    "#filter df"
   ]
  },
  {
   "cell_type": "code",
   "execution_count": 36,
   "id": "59b99c83-fc14-4c2c-9fd3-40e9b8306f2b",
   "metadata": {},
   "outputs": [],
   "source": [
    "filtered_df = df.drop(df[df['parameter'].isin(['pm1', 'relativehumidity', 'um003', 'temperature', 'bc'])].index)"
   ]
  },
  {
   "cell_type": "code",
   "execution_count": 37,
   "id": "42e406e8-11a9-4777-9712-3e634b3a9a37",
   "metadata": {},
   "outputs": [
    {
     "data": {
      "text/plain": [
       "parameter\n",
       "no2     540\n",
       "pm10    517\n",
       "pm25    351\n",
       "o3      345\n",
       "so2     284\n",
       "co       13\n",
       "no        1\n",
       "Name: count, dtype: int64"
      ]
     },
     "execution_count": 37,
     "metadata": {},
     "output_type": "execute_result"
    }
   ],
   "source": [
    "filtered_df['parameter'].value_counts()"
   ]
  },
  {
   "cell_type": "code",
   "execution_count": 38,
   "id": "b5bc0d88-4fad-473a-a169-ffc12aee2a5b",
   "metadata": {},
   "outputs": [],
   "source": [
    "#Transformation"
   ]
  },
  {
   "cell_type": "code",
   "execution_count": 39,
   "id": "a2579ba8-b957-4dec-9a9e-ea56aa5ad6f2",
   "metadata": {},
   "outputs": [],
   "source": [
    "def label_parameter(row):\n",
    "    value = row['value']\n",
    "    parameter = row['parameter']\n",
    "    \n",
    "    if parameter == 'nox':\n",
    "        if value < 40:\n",
    "            return 'Good'\n",
    "        elif value < 80:\n",
    "            return 'Moderate'\n",
    "        else:\n",
    "            return 'Unhealthy'\n",
    "    elif parameter == 'pm25':\n",
    "        if value < 12:\n",
    "            return 'Good'\n",
    "        elif value < 35.4:\n",
    "            return 'Moderate'\n",
    "        else:\n",
    "            return 'Unhealthy'\n",
    "    elif parameter == 'pm10':\n",
    "        if value < 50:\n",
    "            return 'Good'\n",
    "        elif value < 150:\n",
    "            return 'Moderate'\n",
    "        else:\n",
    "            return 'Unhealthy'\n",
    "    elif parameter == 'no2':\n",
    "        if value < 40:\n",
    "            return 'Good'\n",
    "        elif value < 80:\n",
    "            return 'Moderate'\n",
    "        else:\n",
    "            return 'Unhealthy'\n",
    "    elif parameter == 'so2':\n",
    "        if value < 40:\n",
    "            return 'Good'\n",
    "        elif value < 80:\n",
    "            return 'Moderate'\n",
    "        else:\n",
    "            return 'Unhealthy'\n",
    "    elif parameter == 'o3':\n",
    "        if value < 50:\n",
    "            return 'Good'\n",
    "        elif value < 100:\n",
    "            return 'Moderate'\n",
    "        else:\n",
    "            return 'Unhealthy'\n",
    "    elif parameter == 'no':\n",
    "        if value < 40:\n",
    "            return 'Good'\n",
    "        elif value < 100:\n",
    "            return 'Moderate'\n",
    "        else:\n",
    "            return 'Unhealthy'\n",
    "    elif parameter == 'co':\n",
    "        if value < 5:\n",
    "            return 'Good'\n",
    "        elif value < 10:\n",
    "            return 'Moderate'\n",
    "        else:\n",
    "            return 'Unhealthy'"
   ]
  },
  {
   "cell_type": "code",
   "execution_count": 40,
   "id": "c4126074-b756-4072-97e6-e2b6d0fabda1",
   "metadata": {},
   "outputs": [],
   "source": [
    "filtered_df['quality_label'] = filtered_df.apply(label_parameter, axis=1)"
   ]
  },
  {
   "cell_type": "code",
   "execution_count": 41,
   "id": "e2f7cdd6-8033-4104-9bd2-b95e458d97b8",
   "metadata": {},
   "outputs": [
    {
     "data": {
      "text/html": [
       "<div>\n",
       "<style scoped>\n",
       "    .dataframe tbody tr th:only-of-type {\n",
       "        vertical-align: middle;\n",
       "    }\n",
       "\n",
       "    .dataframe tbody tr th {\n",
       "        vertical-align: top;\n",
       "    }\n",
       "\n",
       "    .dataframe thead th {\n",
       "        text-align: right;\n",
       "    }\n",
       "</style>\n",
       "<table border=\"1\" class=\"dataframe\">\n",
       "  <thead>\n",
       "    <tr style=\"text-align: right;\">\n",
       "      <th></th>\n",
       "      <th>city</th>\n",
       "      <th>parameter</th>\n",
       "      <th>value</th>\n",
       "      <th>unit</th>\n",
       "      <th>country</th>\n",
       "      <th>latitude</th>\n",
       "      <th>longitude</th>\n",
       "      <th>quality_label</th>\n",
       "    </tr>\n",
       "  </thead>\n",
       "  <tbody>\n",
       "    <tr>\n",
       "      <th>6</th>\n",
       "      <td>Reykjavik Husdyragardurinn</td>\n",
       "      <td>o3</td>\n",
       "      <td>35.961900</td>\n",
       "      <td>µg/m³</td>\n",
       "      <td>Iceland</td>\n",
       "      <td>64.138861</td>\n",
       "      <td>-21.873411</td>\n",
       "      <td>Good</td>\n",
       "    </tr>\n",
       "    <tr>\n",
       "      <th>7</th>\n",
       "      <td>VOLOS-1</td>\n",
       "      <td>pm25</td>\n",
       "      <td>2.000000</td>\n",
       "      <td>µg/m³</td>\n",
       "      <td>Greece</td>\n",
       "      <td>39.366711</td>\n",
       "      <td>22.942922</td>\n",
       "      <td>Good</td>\n",
       "    </tr>\n",
       "    <tr>\n",
       "      <th>8</th>\n",
       "      <td>VOLOS-1</td>\n",
       "      <td>pm10</td>\n",
       "      <td>18.000000</td>\n",
       "      <td>µg/m³</td>\n",
       "      <td>Greece</td>\n",
       "      <td>39.366711</td>\n",
       "      <td>22.942922</td>\n",
       "      <td>Good</td>\n",
       "    </tr>\n",
       "    <tr>\n",
       "      <th>33</th>\n",
       "      <td>Utrecht NLH</td>\n",
       "      <td>pm10</td>\n",
       "      <td>27.625000</td>\n",
       "      <td>µg/m³</td>\n",
       "      <td>Netherlands</td>\n",
       "      <td>52.094751</td>\n",
       "      <td>5.134536</td>\n",
       "      <td>Good</td>\n",
       "    </tr>\n",
       "    <tr>\n",
       "      <th>41</th>\n",
       "      <td>Bangeløkka</td>\n",
       "      <td>pm25</td>\n",
       "      <td>7.079386</td>\n",
       "      <td>µg/m³</td>\n",
       "      <td>Norway</td>\n",
       "      <td>59.733270</td>\n",
       "      <td>10.211670</td>\n",
       "      <td>Good</td>\n",
       "    </tr>\n",
       "  </tbody>\n",
       "</table>\n",
       "</div>"
      ],
      "text/plain": [
       "                          city parameter      value   unit      country  \\\n",
       "6   Reykjavik Husdyragardurinn        o3  35.961900  µg/m³      Iceland   \n",
       "7                      VOLOS-1      pm25   2.000000  µg/m³       Greece   \n",
       "8                      VOLOS-1      pm10  18.000000  µg/m³       Greece   \n",
       "33                 Utrecht NLH      pm10  27.625000  µg/m³  Netherlands   \n",
       "41                  Bangeløkka      pm25   7.079386  µg/m³       Norway   \n",
       "\n",
       "     latitude  longitude quality_label  \n",
       "6   64.138861 -21.873411          Good  \n",
       "7   39.366711  22.942922          Good  \n",
       "8   39.366711  22.942922          Good  \n",
       "33  52.094751   5.134536          Good  \n",
       "41  59.733270  10.211670          Good  "
      ]
     },
     "execution_count": 41,
     "metadata": {},
     "output_type": "execute_result"
    }
   ],
   "source": [
    "filtered_df.head()"
   ]
  },
  {
   "cell_type": "code",
   "execution_count": 42,
   "id": "f78a72d9-5105-407e-a5a5-910ec12cdf34",
   "metadata": {},
   "outputs": [
    {
     "name": "stdout",
     "output_type": "stream",
     "text": [
      "<class 'pandas.core.frame.DataFrame'>\n",
      "Index: 2051 entries, 6 to 7074\n",
      "Data columns (total 8 columns):\n",
      " #   Column         Non-Null Count  Dtype  \n",
      "---  ------         --------------  -----  \n",
      " 0   city           2051 non-null   object \n",
      " 1   parameter      2051 non-null   object \n",
      " 2   value          2051 non-null   float64\n",
      " 3   unit           2051 non-null   object \n",
      " 4   country        2051 non-null   object \n",
      " 5   latitude       2051 non-null   float64\n",
      " 6   longitude      2051 non-null   float64\n",
      " 7   quality_label  2051 non-null   object \n",
      "dtypes: float64(3), object(5)\n",
      "memory usage: 144.2+ KB\n"
     ]
    }
   ],
   "source": [
    "filtered_df.info()"
   ]
  },
  {
   "cell_type": "code",
   "execution_count": null,
   "id": "12f4726f-1d9b-4450-84d7-ff4aa7062d3e",
   "metadata": {},
   "outputs": [],
   "source": []
  },
  {
   "cell_type": "code",
   "execution_count": 43,
   "id": "67d2c453-debd-40d8-8034-c2abe07e9c2a",
   "metadata": {},
   "outputs": [],
   "source": [
    "#filtered_df.to_excel('openaq_data_eu_l.xlsx', index=False)"
   ]
  }
 ],
 "metadata": {
  "kernelspec": {
   "display_name": "Python 3 (ipykernel)",
   "language": "python",
   "name": "python3"
  },
  "language_info": {
   "codemirror_mode": {
    "name": "ipython",
    "version": 3
   },
   "file_extension": ".py",
   "mimetype": "text/x-python",
   "name": "python",
   "nbconvert_exporter": "python",
   "pygments_lexer": "ipython3",
   "version": "3.11.5"
  }
 },
 "nbformat": 4,
 "nbformat_minor": 5
}
